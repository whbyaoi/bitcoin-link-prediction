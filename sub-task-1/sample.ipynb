{
 "cells": [
  {
   "cell_type": "code",
   "execution_count": null,
   "metadata": {},
   "outputs": [],
   "source": [
    "import csv\n",
    "import os\n",
    "import random\n",
    "\n",
    "random.seed(42)\n",
    "\n",
    "csv_files = os.listdir('csv_data')\n",
    "for cf in csv_files[:1]:\n",
    "    with open('csv_data/'+cf) as f:\n",
    "        csv_f = csv.reader(f)\n",
    "        header = next(csv_f)\n",
    "        addresses = [row[0] for row in csv_f]\n",
    "        if len(addresses) >= 10:\n",
    "            addresses = random.sample(addresses, 10)\n",
    "        file = open('graph_data/{}.txt'.format(cf[:-4]), 'w+')\n",
    "        for addr in addresses:\n",
    "            file.write(addr + '\\n')\n",
    "        file.close()"
   ]
  }
 ],
 "metadata": {
  "language_info": {
   "name": "python"
  }
 },
 "nbformat": 4,
 "nbformat_minor": 2
}
