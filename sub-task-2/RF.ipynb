{
 "cells": [
  {
   "cell_type": "code",
   "execution_count": null,
   "metadata": {},
   "outputs": [],
   "source": [
    "from sklearn.ensemble import RandomForestClassifier\n",
    "from sklearn.model_selection import train_test_split, cross_val_score\n",
    "import numpy as np\n",
    "import os \n",
    "import pickle\n",
    "\n",
    "clf = RandomForestClassifier()\n",
    "\n",
    "for file in [\"Blackmail\", \"Gambles\", \"Money Laundering\", \"Ponzi\"]:\n",
    "    print(file)\n",
    "    dataset = pickle.load(open('path/{}.pkl'.format(file), 'rb'))\n",
    "    \n",
    "    data = [item[0] for item in dataset]\n",
    "    label = [item[1] for item in dataset]\n",
    "    data = np.reshape(data, (len(data), 5*84))\n",
    "\n",
    "    xtrain, xtest, ytrain, ytest = train_test_split(data, label, test_size=0.2)\n",
    "\n",
    "    clf.fit(xtrain, ytrain)\n",
    "    rs = clf.predict(xtest)\n",
    "    acc = 0\n",
    "    TP, FP, TN, FN = 0, 0, 0, 0\n",
    "    m = {}\n",
    "    for i in range(len(xtest)):\n",
    "        if \"{}-{}\".format(rs[i], ytest[i][0]) in m:\n",
    "            m[\"{}-{}\".format(rs[i], ytest[i][0])]+=1\n",
    "        else:\n",
    "            m[\"{}-{}\".format(rs[i], ytest[i][0])]=1\n",
    "        if rs[i] == ytest[i][0] == 1:\n",
    "            acc+=1\n",
    "            TP+=1\n",
    "        elif rs[i] == ytest[i][0] == 0:\n",
    "            acc+=1\n",
    "            TN+=1\n",
    "        elif rs[i] == 1 and ytest[i][0] == 0:\n",
    "            FP+=1\n",
    "        else:\n",
    "            FN+=1\n",
    "    print(m)\n",
    "    print(len(xtest), TP, FP, TN, FN,TP+FP+TN+FN)\n",
    "    P = TP / (TP + FP) if (TP + FP) else 0\n",
    "    R = TP / (TP + FN) if (TP + FN) else 0\n",
    "    F1 = 2 * P * R / (P + R) if (P + R) else 0\n",
    "    print(acc/len(xtest), F1, P, R)"
   ]
  }
 ],
 "metadata": {
  "kernelspec": {
   "display_name": "pytorch",
   "language": "python",
   "name": "python3"
  },
  "language_info": {
   "codemirror_mode": {
    "name": "ipython",
    "version": 3
   },
   "file_extension": ".py",
   "mimetype": "text/x-python",
   "name": "python",
   "nbconvert_exporter": "python",
   "pygments_lexer": "ipython3",
   "version": "3.10.10"
  },
  "orig_nbformat": 4
 },
 "nbformat": 4,
 "nbformat_minor": 2
}
