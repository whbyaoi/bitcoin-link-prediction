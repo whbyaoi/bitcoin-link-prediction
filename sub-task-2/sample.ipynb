{
 "cells": [
  {
   "cell_type": "code",
   "execution_count": null,
   "metadata": {},
   "outputs": [],
   "source": [
    "import csv\n",
    "import os\n",
    "import random\n",
    "import blocksci\n",
    "\n",
    "chain = blocksci.Blockchain(\"/home/blocksci_data/blocksci.conf\")\n",
    "\n",
    "random.seed(42)\n",
    "\n",
    "csv_files = os.listdir('csv_data')\n",
    "for cf in csv_files:\n",
    "    with open('csv_data/'+cf) as f:\n",
    "        csv_f = csv.reader(f)\n",
    "        header = next(csv_f)\n",
    "        addresses = [row[0] for row in csv_f]\n",
    "        print(cf, len(addresses))\n",
    "        if len(addresses) >= 1000:\n",
    "            addresses = random.sample(addresses, 1000)\n",
    "            \n",
    "        print(cf, len(addresses))\n",
    "        p_tx = n_tx = tx_cnt = 0\n",
    "        p_file = open('endpoint_addresses/{}_positive.txt'.format(cf[:-4]), \"w+\")\n",
    "        n_file = open('endpoint_addresses/{}_negative.txt'.format(cf[:-4]), \"w+\")\n",
    "        for addr in addresses:\n",
    "            address = chain.address_from_string(addr)\n",
    "            for in_tx in address.input_txes:\n",
    "                f1 = False\n",
    "                f2 = False\n",
    "                for out in in_tx.outs:\n",
    "                    if str(out.address.first_tx.hash) == str(in_tx.hash):\n",
    "                        f1 = True\n",
    "                    else:\n",
    "                        f2 = True\n",
    "                    if f1 and f2:\n",
    "                        break\n",
    "                if f1:\n",
    "                    p_file.write('{} {}\\n'.format(str(in_tx.hash), addr))\n",
    "                    p_tx+=1\n",
    "                if f2:\n",
    "                    n_file.write('{} {}\\n'.format(str(in_tx.hash), addr))\n",
    "                    n_tx+=1\n",
    "                tx_cnt+=1\n",
    "        p_file.close()\n",
    "        n_file.close()\n",
    "        print(p_tx, n_tx, tx_cnt)"
   ]
  }
 ],
 "metadata": {
  "language_info": {
   "name": "python"
  }
 },
 "nbformat": 4,
 "nbformat_minor": 2
}
