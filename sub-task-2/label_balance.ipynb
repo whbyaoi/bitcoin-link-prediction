{
 "cells": [
  {
   "cell_type": "code",
   "execution_count": null,
   "id": "d66e5442-cae8-4145-8c6f-169f4b116d56",
   "metadata": {},
   "outputs": [],
   "source": [
    "import os\n",
    "import random\n",
    "\n",
    "random.seed(42)\n",
    "\n",
    "files = os.listdir(\"endpoint_addresses\")\n",
    "files = list(set([f[:f.index('_')] for f in files if f[0]!='.']))\n",
    "print(files)\n",
    "\n",
    "for file in files:\n",
    "    map_p = {}\n",
    "    map_n = {}\n",
    "    all_txes = set()\n",
    "    # postive\n",
    "    with open(\"endpoint_addresses/\"+file+'_positive.txt', \"r\") as f:\n",
    "        line = f.readline().strip()\n",
    "        while line:\n",
    "            tx_hash, address = line.split(' ')\n",
    "            map_p[tx_hash] = address\n",
    "            all_txes.add(tx_hash)\n",
    "            line = f.readline().strip()\n",
    "            \n",
    "    # negative\n",
    "    with open(\"endpoint_addresses/\"+file+'_negative.txt', \"r\") as f:\n",
    "        line = f.readline().strip()\n",
    "        while line:\n",
    "            tx_hash, address = line.split(' ')\n",
    "            map_n[tx_hash] = address\n",
    "            all_txes.add(tx_hash)\n",
    "            line = f.readline().strip()\n",
    "    \n",
    "    # print(len(map_p), len(map_n), len(all_txes))\n",
    "    half = min(len(map_p), len(all_txes)//2)\n",
    "    \n",
    "    txes_p = set(list(map_p.keys()))\n",
    "    txes_n = set(list(map_n.keys()))\n",
    "    overlap = txes_p & txes_n\n",
    "    pure_p = txes_p - overlap\n",
    "    pure_n = txes_n - overlap\n",
    "    \n",
    "    print('category：{} \\final：{} pure positive：{} pure negative：{} mix：{} total：{}'.format(file, half*2, len(pure_p), len(pure_n), len(overlap), len(pure_p)+len(pure_n)+len(overlap)))\n",
    "    pf = open('addresses/'+file+'_p.txt', 'w+')\n",
    "    nf = open('addresses/'+file+'_n.txt', 'w+')\n",
    "    for tp in txes_p:\n",
    "        pf.write('{} {}\\n'.format(tp, map_p[tp]))\n",
    "    for tn in txes_n:\n",
    "        nf.write('{} {}\\n'.format(tn, map_n[tn]))\n",
    "    pf.close()\n",
    "    nf.close()\n",
    "        "
   ]
  },
  {
   "cell_type": "code",
   "execution_count": null,
   "id": "5495b9f9-aafa-459c-97ab-7b1eb9f50e9e",
   "metadata": {},
   "outputs": [],
   "source": []
  }
 ],
 "metadata": {
  "kernelspec": {
   "display_name": "Python 3",
   "language": "python",
   "name": "python3"
  },
  "language_info": {
   "codemirror_mode": {
    "name": "ipython",
    "version": 3
   },
   "file_extension": ".py",
   "mimetype": "text/x-python",
   "name": "python",
   "nbconvert_exporter": "python",
   "pygments_lexer": "ipython3",
   "version": "3.6.9"
  }
 },
 "nbformat": 4,
 "nbformat_minor": 5
}
